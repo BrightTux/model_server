{
 "cells": [
  {
   "cell_type": "markdown",
   "id": "4d10e5d3",
   "metadata": {},
   "source": [
    "## Login to OpenShift with API Token\n",
    "\n",
    "First, let's login to OpenShift cluster using `oc` tool. \n",
    "\n",
    "In the Red Hat OpenShift console, click on your username and select `Copy login command`.\n",
    "\n",
    "![copy-login.png](notebook-files/copy-login.png)\n",
    "\n",
    "Click on `Display Token` and your API token will appear.\n",
    "\n",
    "![log-in-with-token.png](notebook-files/log-in-with-token.png)\n",
    "\n",
    "Copy `Log in with token` command and paste it in the cell below. The command has your `<user-API-token>` and `<cluster-DNS-name>`."
   ]
  },
  {
   "cell_type": "code",
   "execution_count": null,
   "id": "b724a682",
   "metadata": {},
   "outputs": [],
   "source": [
    "!oc login --token=<user-API-token> --server=https://api.<cluster-DNS-name>:6443"
   ]
  },
  {
   "cell_type": "markdown",
   "id": "f6215e23",
   "metadata": {},
   "source": [
    "Create `ovms-operator` project and to go this project."
   ]
  },
  {
   "cell_type": "code",
   "execution_count": 3,
   "id": "2ebaf62c",
   "metadata": {},
   "outputs": [
    {
     "name": "stdout",
     "output_type": "stream",
     "text": [
      "Error from server (AlreadyExists): project.project.openshift.io \"ovms-operator\" already exists\n",
      "Already on project \"ovms-operator\" on server \"https://api.openvino5.3q12.p1.openshiftapps.com:6443\".\n"
     ]
    }
   ],
   "source": [
    "!oc new-project ovms-operator \n",
    "!oc project ovms-operator"
   ]
  },
  {
   "cell_type": "markdown",
   "id": "d651de25",
   "metadata": {},
   "source": [
    "## Create an OVMS Instance\n"
   ]
  },
  {
   "cell_type": "markdown",
   "id": "806aa917",
   "metadata": {},
   "source": [
    "Here's the yaml used to configure the OVMS service. We specified `name` to be `ovms-resnet` and `model_path` to be `gs://ovms-public-eu/resnet50-binary`. Also, we defined `model_name` here; we will use this value for gRPC and REST API calls."
   ]
  },
  {
   "cell_type": "code",
   "execution_count": 94,
   "id": "eebfbec1",
   "metadata": {},
   "outputs": [
    {
     "name": "stdout",
     "output_type": "stream",
     "text": [
      "apiVersion: intel.com/v1alpha1\n",
      "kind: Ovms\n",
      "metadata:\n",
      "  name: ovms-resnet\n",
      "spec:\n",
      "  aws_access_key_id: \"\"\n",
      "  aws_region: \"\"\n",
      "  aws_secret_access_key: \"\"\n",
      "  grpc_port: 8080\n",
      "  image_name: registry.connect.redhat.com/intel/openvino-model-server:latest\n",
      "  log_level: INFO\n",
      "  model_name: \"resnet\"\n",
      "  model_path: \"gs://ovms-public-eu/resnet50-binary\"\n",
      "  plugin_config: '{\\\"CPU_THROUGHPUT_STREAMS\\\":\\\"1\\\"}'\n",
      "  replicas: 1\n",
      "  resources:\n",
      "    limits:\n",
      "      cpu: 4\n",
      "      memory: 500Mi\n",
      "  rest_port: 8081\n",
      "  service_type: ClusterIP"
     ]
    }
   ],
   "source": [
    "!cat ovms.yaml"
   ]
  },
  {
   "cell_type": "markdown",
   "id": "d46b8a8e",
   "metadata": {},
   "source": [
    "Run the cell below to create new OVMS service called `ovms-resnet`."
   ]
  },
  {
   "cell_type": "code",
   "execution_count": 95,
   "id": "1939cde4",
   "metadata": {},
   "outputs": [
    {
     "name": "stdout",
     "output_type": "stream",
     "text": [
      "ovms.intel.com/ovms-resnet created\n"
     ]
    }
   ],
   "source": [
    "!oc apply -f ovms.yaml"
   ]
  },
  {
   "cell_type": "markdown",
   "id": "0d3e4859",
   "metadata": {},
   "source": [
    "Let's see if pod and service were created. They should start with `ovms-resnet`."
   ]
  },
  {
   "cell_type": "code",
   "execution_count": 99,
   "id": "44b84c75",
   "metadata": {},
   "outputs": [
    {
     "name": "stdout",
     "output_type": "stream",
     "text": [
      "NAME                             READY     STATUS    RESTARTS   AGE\n",
      "minio-5c57f888dd-wlv4m           1/1       Running   0          25h\n",
      "ovms-instance-795cf867f8-42b5z   1/1       Running   0          2d19h\n",
      "ovms-resnet-5fd9cd8b86-6nmv4     1/1       Running   0          107s\n",
      "NAME            TYPE        CLUSTER-IP      EXTERNAL-IP   PORT(S)             AGE\n",
      "minio-service   ClusterIP   172.30.53.134   <none>        9000/TCP            25h\n",
      "ovms-instance   ClusterIP   172.30.187.42   <none>        8080/TCP,8081/TCP   7d19h\n",
      "ovms-resnet     ClusterIP   172.30.91.166   <none>        8080/TCP,8081/TCP   107s\n"
     ]
    }
   ],
   "source": [
    "!oc get pod\n",
    "!oc get service"
   ]
  },
  {
   "cell_type": "markdown",
   "id": "88725dfc",
   "metadata": {},
   "source": [
    "Check if the service is up and running by making a REST API call."
   ]
  },
  {
   "cell_type": "code",
   "execution_count": 131,
   "id": "36bcdb73",
   "metadata": {},
   "outputs": [
    {
     "name": "stdout",
     "output_type": "stream",
     "text": [
      "{\n",
      " \"model_version_status\": [\n",
      "  {\n",
      "   \"version\": \"1\",\n",
      "   \"state\": \"AVAILABLE\",\n",
      "   \"status\": {\n",
      "    \"error_code\": \"OK\",\n",
      "    \"error_message\": \"OK\"\n",
      "   }\n",
      "  }\n",
      " ]\n",
      "}\n"
     ]
    }
   ],
   "source": [
    "!curl http://ovms-resnet.ovms-operator.svc.cluster.local:8081/v1/models/resnet"
   ]
  },
  {
   "cell_type": "markdown",
   "id": "dd6784de",
   "metadata": {},
   "source": [
    "The `state` parameter should be `AVAILABLE`. Note `version` value, we will use it for gRPC and REST API calls. "
   ]
  },
  {
   "cell_type": "markdown",
   "id": "3e889a41",
   "metadata": {},
   "source": [
    "## gRPC API Calls\n",
    "\n",
    "In this section, we will make gRPC API calls to the OVMS service using sample scripts.\n",
    "\n",
    "To run sample scripts, we will need to get the serving metadata. `get_serving_meta.py` script has the following arguments:\n",
    "* **--grpc_address**  \n",
    "* **--grpc_port**\n",
    "* **--model_name**\n",
    "* **--model_version**\n",
    "\n",
    "Run the cell to get the metadata."
   ]
  },
  {
   "cell_type": "code",
   "execution_count": 133,
   "id": "1217021a",
   "metadata": {},
   "outputs": [
    {
     "name": "stdout",
     "output_type": "stream",
     "text": [
      "2021-04-23 20:06:23.152381: W tensorflow/stream_executor/platform/default/dso_loader.cc:60] Could not load dynamic library 'libcudart.so.11.0'; dlerror: libcudart.so.11.0: cannot open shared object file: No such file or directory\n",
      "2021-04-23 20:06:23.152419: I tensorflow/stream_executor/cuda/cudart_stub.cc:29] Ignore above cudart dlerror if you do not have a GPU set up on your machine.\n",
      "Getting model metadata for model: resnet\n",
      "Inputs metadata:\n",
      "\tInput name: 0; shape: [1, 3, 224, 224]; dtype: DT_FLOAT\n",
      "Outputs metadata:\n",
      "\tOutput name: 1463; shape: [1, 1000]; dtype: DT_FLOAT\n"
     ]
    }
   ],
   "source": [
    "!python get_serving_meta.py --grpc_address ovms-resnet.ovms-operator.svc.cluster.local \\\n",
    "                            --grpc_port 8080 \\\n",
    "                            --model_name resnet \\\n",
    "                            --model_version 1"
   ]
  },
  {
   "cell_type": "markdown",
   "id": "aa666c00",
   "metadata": {},
   "source": [
    "For the `jpeg_classificaion.py` script, we specified `--input_name` and `--output_name` arguments, from the metadata output. However, we omitted the `--images_list` argument because we used the default value, `input_images.txt`. \n",
    "\n",
    "Let's see what's in that file."
   ]
  },
  {
   "cell_type": "code",
   "execution_count": 136,
   "id": "aec1464b",
   "metadata": {},
   "outputs": [
    {
     "name": "stdout",
     "output_type": "stream",
     "text": [
      "    images/airliner.jpeg 404\n",
      "    images/arctic-fox.jpeg 279\n",
      "    images/bee.jpeg 309\n",
      "    images/golden_retriever.jpeg 207\n",
      "    images/gorilla.jpeg 366\n",
      "    images/magnetic_compass.jpeg 635\n",
      "    images/peacock.jpeg 84\n",
      "    images/pelican.jpeg 144\n",
      "    images/snail.jpeg 113\n",
      "    images/zebra.jpeg 340\n"
     ]
    }
   ],
   "source": [
    "!cat input_images.txt"
   ]
  },
  {
   "cell_type": "markdown",
   "id": "7c170067",
   "metadata": {},
   "source": [
    "As you can see, `input_images.txt` contains paths to images and [class ids](classes.py)."
   ]
  },
  {
   "cell_type": "markdown",
   "id": "6c8d18c3",
   "metadata": {},
   "source": [
    "Run a classification inference on list of images, listed in `input_images.txt`."
   ]
  },
  {
   "cell_type": "code",
   "execution_count": 5,
   "id": "9e7b4de1",
   "metadata": {},
   "outputs": [
    {
     "name": "stdout",
     "output_type": "stream",
     "text": [
      "2021-04-23 22:40:47.370032: W tensorflow/stream_executor/platform/default/dso_loader.cc:60] Could not load dynamic library 'libcudart.so.11.0'; dlerror: libcudart.so.11.0: cannot open shared object file: No such file or directory\n",
      "2021-04-23 22:40:47.370069: I tensorflow/stream_executor/cuda/cudart_stub.cc:29] Ignore above cudart dlerror if you do not have a GPU set up on your machine.\n",
      "Start processing:\n",
      "\tModel name: resnet\n",
      "\tImages list file: input_images.txt\n",
      "images/airliner.jpeg (1, 3, 224, 224) ; data range: 0.0 : 255.0\n",
      "Processing time: 15.37 ms; speed 65.07 fps\n",
      "\t 1 airliner 404 ; Correct match.\n",
      "images/arctic-fox.jpeg (1, 3, 224, 224) ; data range: 0.0 : 255.0\n",
      "Processing time: 7.11 ms; speed 140.73 fps\n",
      "\t 2 Arctic fox, white fox, Alopex lagopus 279 ; Correct match.\n",
      "images/bee.jpeg (1, 3, 224, 224) ; data range: 0.0 : 255.0\n",
      "Processing time: 7.10 ms; speed 140.88 fps\n",
      "\t 3 bee 309 ; Correct match.\n",
      "images/golden_retriever.jpeg (1, 3, 224, 224) ; data range: 0.0 : 255.0\n",
      "Processing time: 6.77 ms; speed 147.73 fps\n",
      "\t 4 golden retriever 207 ; Correct match.\n",
      "images/gorilla.jpeg (1, 3, 224, 224) ; data range: 0.0 : 255.0\n",
      "Processing time: 6.59 ms; speed 151.84 fps\n",
      "\t 5 gorilla, Gorilla gorilla 366 ; Correct match.\n",
      "images/magnetic_compass.jpeg (1, 3, 224, 224) ; data range: 0.0 : 247.0\n",
      "Processing time: 6.78 ms; speed 147.49 fps\n",
      "\t 6 magnetic compass 635 ; Correct match.\n",
      "images/peacock.jpeg (1, 3, 224, 224) ; data range: 0.0 : 255.0\n",
      "Processing time: 7.49 ms; speed 133.51 fps\n",
      "\t 7 peacock 84 ; Correct match.\n",
      "images/pelican.jpeg (1, 3, 224, 224) ; data range: 0.0 : 255.0\n",
      "Processing time: 7.04 ms; speed 141.94 fps\n",
      "\t 8 pelican 144 ; Correct match.\n",
      "images/snail.jpeg (1, 3, 224, 224) ; data range: 0.0 : 248.0\n",
      "Processing time: 6.91 ms; speed 144.63 fps\n",
      "\t 9 snail 113 ; Correct match.\n",
      "images/zebra.jpeg (1, 3, 224, 224) ; data range: 0.0 : 255.0\n",
      "Processing time: 6.76 ms; speed 147.97 fps\n",
      "\t 10 zebra 340 ; Correct match.\n",
      "Overall accuracy= 100.0 %\n",
      "Average latency= 7.3 ms\n"
     ]
    }
   ],
   "source": [
    "!python3 jpeg_classification.py --grpc_address ovms-resnet.ovms-operator.svc.cluster.local \\\n",
    "                                --grpc_port 8080 \\\n",
    "                                --input_name 0 \\\n",
    "                                --output_name 1463"
   ]
  },
  {
   "cell_type": "markdown",
   "id": "5a210933",
   "metadata": {},
   "source": [
    "Here's a different image list you could try, `people_images_list.txt`. "
   ]
  },
  {
   "cell_type": "code",
   "execution_count": 137,
   "id": "3b25e7c5",
   "metadata": {},
   "outputs": [
    {
     "name": "stdout",
     "output_type": "stream",
     "text": [
      "images/people/people1.jpeg 1\n",
      "images/people/people2.jpeg 1\n",
      "images/people/people3.jpeg 1\n",
      "images/people/people4.jpeg 1"
     ]
    }
   ],
   "source": [
    "!cat people_images_list.txt"
   ]
  },
  {
   "cell_type": "markdown",
   "id": "e96de21f",
   "metadata": {},
   "source": [
    "This time, we will run a classification inference on people images by specifying `--images_list`."
   ]
  },
  {
   "cell_type": "code",
   "execution_count": 8,
   "id": "5aaba8b5",
   "metadata": {},
   "outputs": [
    {
     "name": "stdout",
     "output_type": "stream",
     "text": [
      "2021-04-23 22:49:28.461951: W tensorflow/stream_executor/platform/default/dso_loader.cc:60] Could not load dynamic library 'libcudart.so.11.0'; dlerror: libcudart.so.11.0: cannot open shared object file: No such file or directory\n",
      "2021-04-23 22:49:28.461987: I tensorflow/stream_executor/cuda/cudart_stub.cc:29] Ignore above cudart dlerror if you do not have a GPU set up on your machine.\n",
      "Start processing:\n",
      "\tModel name: resnet\n",
      "\tImages list file: people_images_list.txt\n",
      "images/people/people1.jpeg (1, 3, 224, 224) ; data range: 0.0 : 255.0\n",
      "Processing time: 13.68 ms; speed 73.12 fps\n",
      "Traceback (most recent call last):\n",
      "  File \"jpeg_classification.py\", line 118, in <module>\n",
      "    mark_message = \"; Incorrect match. Should be {} {}\".format(lb[i], classes.imagenet_classes[lb[i]] )\n",
      "NameError: name 'lb' is not defined\n"
     ]
    }
   ],
   "source": [
    "!python3 jpeg_classification.py --grpc_address ovms-resnet.ovms-operator.svc.cluster.local \\\n",
    "                                --grpc_port 8080 \\\n",
    "                                --input_name 0 \\\n",
    "                                --output_name 1463 \\\n",
    "                                --images_list people_images_list.txt"
   ]
  },
  {
   "cell_type": "markdown",
   "id": "4084671c",
   "metadata": {},
   "source": [
    "Let's try another script, `grpc_serving_client.py`. It accepts NumPy array as an input for `--images_numpy_path` argument."
   ]
  },
  {
   "cell_type": "code",
   "execution_count": 7,
   "id": "765da03b",
   "metadata": {},
   "outputs": [
    {
     "name": "stdout",
     "output_type": "stream",
     "text": [
      "2021-04-23 22:48:48.174710: W tensorflow/stream_executor/platform/default/dso_loader.cc:60] Could not load dynamic library 'libcudart.so.11.0'; dlerror: libcudart.so.11.0: cannot open shared object file: No such file or directory\n",
      "2021-04-23 22:48:48.174749: I tensorflow/stream_executor/cuda/cudart_stub.cc:29] Ignore above cudart dlerror if you do not have a GPU set up on your machine.\n",
      "Image data range: 0.0 : 255.0\n",
      "Start processing:\n",
      "\tModel name: resnet\n",
      "\tIterations: 10\n",
      "\tImages numpy path: imgs.npy\n",
      "\tImages in shape: (10, 3, 224, 224)\n",
      "\n",
      "Iteration 1; Processing time: 14.43 ms; speed 69.32 fps\n",
      "imagenet top results in a single batch:\n",
      "\t 0 airliner 404 \n",
      "Iteration 2; Processing time: 6.95 ms; speed 143.86 fps\n",
      "imagenet top results in a single batch:\n",
      "\t 0 Arctic fox, white fox, Alopex lagopus 279 \n",
      "Iteration 3; Processing time: 6.78 ms; speed 147.49 fps\n",
      "imagenet top results in a single batch:\n",
      "\t 0 bee 309 \n",
      "Iteration 4; Processing time: 6.93 ms; speed 144.34 fps\n",
      "imagenet top results in a single batch:\n",
      "\t 0 golden retriever 207 \n",
      "Iteration 5; Processing time: 6.72 ms; speed 148.90 fps\n",
      "imagenet top results in a single batch:\n",
      "\t 0 gorilla, Gorilla gorilla 366 \n",
      "Iteration 6; Processing time: 6.66 ms; speed 150.15 fps\n",
      "imagenet top results in a single batch:\n",
      "\t 0 magnetic compass 635 \n",
      "Iteration 7; Processing time: 7.15 ms; speed 139.88 fps\n",
      "imagenet top results in a single batch:\n",
      "\t 0 peacock 84 \n",
      "Iteration 8; Processing time: 7.28 ms; speed 137.46 fps\n",
      "imagenet top results in a single batch:\n",
      "\t 0 pelican 144 \n",
      "Iteration 9; Processing time: 29.74 ms; speed 33.63 fps\n",
      "imagenet top results in a single batch:\n",
      "\t 0 snail 113 \n",
      "Iteration 10; Processing time: 7.04 ms; speed 141.98 fps\n",
      "imagenet top results in a single batch:\n",
      "\t 0 zebra 340 \n",
      "\n",
      "processing time for all iterations\n",
      "average time: 9.40 ms; average speed: 106.38 fps\n",
      "median time: 6.50 ms; median speed: 153.85 fps\n",
      "max time: 29.00 ms; min speed: 34.48 fps\n",
      "min time: 6.00 ms; max speed: 166.67 fps\n",
      "time percentile 90: 15.50 ms; speed percentile 90: 64.52 fps\n",
      "time percentile 50: 6.50 ms; speed percentile 50: 153.85 fps\n",
      "time standard deviation: 6.93\n",
      "time variance: 48.04\n"
     ]
    }
   ],
   "source": [
    "!python3 grpc_serving_client.py \\\n",
    "        --grpc_address ovms-resnet.ovms-operator.svc.cluster.local \\\n",
    "        --grpc_port 8080 \\\n",
    "        --input_name 0 \\\n",
    "        --output_name 1463 \\\n",
    "        --images_numpy_path imgs.npy \\\n",
    "        --transpose_input False"
   ]
  },
  {
   "cell_type": "markdown",
   "id": "2c765fa9",
   "metadata": {},
   "source": [
    "## REST API Calls\n",
    "\n",
    "In this section, we will make REST API calls to the OVMS service using sample scripts. We will use port `8081` as `--rest_port`, as we specified in the `ovms.yaml` when we created the OVMS service.\n",
    "\n",
    "Run the cell below to get the model status."
   ]
  },
  {
   "cell_type": "code",
   "execution_count": 138,
   "id": "d515f294",
   "metadata": {},
   "outputs": [
    {
     "name": "stdout",
     "output_type": "stream",
     "text": [
      "{\n",
      " \"model_version_status\": [\n",
      "  {\n",
      "   \"version\": \"1\",\n",
      "   \"state\": \"AVAILABLE\",\n",
      "   \"status\": {\n",
      "    \"error_code\": \"OK\",\n",
      "    \"error_message\": \"OK\"\n",
      "   }\n",
      "  }\n",
      " ]\n",
      "}\n",
      "\n"
     ]
    }
   ],
   "source": [
    "!python rest_get_model_status.py --rest_url http://ovms-resnet.ovms-operator.svc.cluster.local \\\n",
    "                                 --rest_port 8081 \\\n",
    "                                 --model_name resnet"
   ]
  },
  {
   "cell_type": "markdown",
   "id": "0605d740",
   "metadata": {},
   "source": [
    "Run the cell below to get serving metadata."
   ]
  },
  {
   "cell_type": "code",
   "execution_count": 140,
   "id": "8e406c05",
   "metadata": {},
   "outputs": [
    {
     "name": "stdout",
     "output_type": "stream",
     "text": [
      "{\n",
      " \"modelSpec\": {\n",
      "  \"name\": \"resnet\",\n",
      "  \"signatureName\": \"\",\n",
      "  \"version\": \"1\"\n",
      " },\n",
      " \"metadata\": {\n",
      "  \"signature_def\": {\n",
      "   \"@type\": \"type.googleapis.com/tensorflow.serving.SignatureDefMap\",\n",
      "   \"signatureDef\": {\n",
      "    \"serving_default\": {\n",
      "     \"inputs\": {\n",
      "      \"0\": {\n",
      "       \"dtype\": \"DT_FLOAT\",\n",
      "       \"tensorShape\": {\n",
      "        \"dim\": [\n",
      "         {\n",
      "          \"size\": \"1\",\n",
      "          \"name\": \"\"\n",
      "         },\n",
      "         {\n",
      "          \"size\": \"3\",\n",
      "          \"name\": \"\"\n",
      "         },\n",
      "         {\n",
      "          \"size\": \"224\",\n",
      "          \"name\": \"\"\n",
      "         },\n",
      "         {\n",
      "          \"size\": \"224\",\n",
      "          \"name\": \"\"\n",
      "         }\n",
      "        ],\n",
      "        \"unknownRank\": false\n",
      "       },\n",
      "       \"name\": \"0\"\n",
      "      }\n",
      "     },\n",
      "     \"outputs\": {\n",
      "      \"1463\": {\n",
      "       \"dtype\": \"DT_FLOAT\",\n",
      "       \"tensorShape\": {\n",
      "        \"dim\": [\n",
      "         {\n",
      "          \"size\": \"1\",\n",
      "          \"name\": \"\"\n",
      "         },\n",
      "         {\n",
      "          \"size\": \"1000\",\n",
      "          \"name\": \"\"\n",
      "         }\n",
      "        ],\n",
      "        \"unknownRank\": false\n",
      "       },\n",
      "       \"name\": \"1463\"\n",
      "      }\n",
      "     },\n",
      "     \"methodName\": \"\"\n",
      "    }\n",
      "   }\n",
      "  }\n",
      " }\n",
      "}\n",
      "\n"
     ]
    }
   ],
   "source": [
    "!python rest_get_serving_meta.py --rest_url http://ovms-resnet.ovms-operator.svc.cluster.local \\\n",
    "                                 --rest_port 8081 \\\n",
    "                                 --model_name resnet"
   ]
  },
  {
   "cell_type": "markdown",
   "id": "980b0ef6",
   "metadata": {},
   "source": [
    "Let's run `rest_serving_client.py` script. It takes `--images_numpy_path` and `--labels_numpy_path` as an input. The script return the same output as `grpc_serving_client.py`."
   ]
  },
  {
   "cell_type": "code",
   "execution_count": 129,
   "id": "b477749b",
   "metadata": {},
   "outputs": [
    {
     "name": "stdout",
     "output_type": "stream",
     "text": [
      "Image data range: 0 : 255\n",
      "Start processing:\n",
      "\tModel name: resnet\n",
      "\tIterations: 10\n",
      "\tImages numpy path: imgs.npy\n",
      "\tImages in shape: (10, 3, 224, 224)\n",
      "\n",
      "output shape: (1, 1000)\n",
      "Iteration 1; Processing time: 38.24 ms; speed 26.15 fps\n",
      "imagenet top results in a single batch:\n",
      "\t 0 airliner 404 ; Correct match.\n",
      "output shape: (1, 1000)\n",
      "Iteration 2; Processing time: 14.91 ms; speed 67.07 fps\n",
      "imagenet top results in a single batch:\n",
      "\t 0 Arctic fox, white fox, Alopex lagopus 279 ; Correct match.\n",
      "output shape: (1, 1000)\n",
      "Iteration 3; Processing time: 14.76 ms; speed 67.77 fps\n",
      "imagenet top results in a single batch:\n",
      "\t 0 bee 309 ; Correct match.\n",
      "output shape: (1, 1000)\n",
      "Iteration 4; Processing time: 15.90 ms; speed 62.89 fps\n",
      "imagenet top results in a single batch:\n",
      "\t 0 golden retriever 207 ; Correct match.\n",
      "output shape: (1, 1000)\n",
      "Iteration 5; Processing time: 15.30 ms; speed 65.35 fps\n",
      "imagenet top results in a single batch:\n",
      "\t 0 gorilla, Gorilla gorilla 366 ; Correct match.\n",
      "output shape: (1, 1000)\n",
      "Iteration 6; Processing time: 14.99 ms; speed 66.71 fps\n",
      "imagenet top results in a single batch:\n",
      "\t 0 magnetic compass 635 ; Correct match.\n",
      "output shape: (1, 1000)\n",
      "Iteration 7; Processing time: 16.02 ms; speed 62.41 fps\n",
      "imagenet top results in a single batch:\n",
      "\t 0 peacock 84 ; Correct match.\n",
      "output shape: (1, 1000)\n",
      "Iteration 8; Processing time: 17.30 ms; speed 57.81 fps\n",
      "imagenet top results in a single batch:\n",
      "\t 0 pelican 144 ; Correct match.\n",
      "output shape: (1, 1000)\n",
      "Iteration 9; Processing time: 16.29 ms; speed 61.38 fps\n",
      "imagenet top results in a single batch:\n",
      "\t 0 snail 113 ; Correct match.\n",
      "output shape: (1, 1000)\n",
      "Iteration 10; Processing time: 14.91 ms; speed 67.07 fps\n",
      "imagenet top results in a single batch:\n",
      "\t 0 zebra 340 ; Correct match.\n",
      "\n",
      "processing time for all iterations\n",
      "average time: 17.30 ms; average speed: 57.80 fps\n",
      "median time: 15.00 ms; median speed: 66.67 fps\n",
      "max time: 38.00 ms; min speed: 26.32 fps\n",
      "min time: 14.00 ms; max speed: 71.43 fps\n",
      "time percentile 90: 19.10 ms; speed percentile 90: 52.36 fps\n",
      "time percentile 50: 15.00 ms; speed percentile 50: 66.67 fps\n",
      "time standard deviation: 6.97\n",
      "time variance: 48.61\n",
      "Classification accuracy: 100.00\n"
     ]
    }
   ],
   "source": [
    "!python rest_serving_client.py --rest_url http://ovms-resnet.ovms-operator.svc.cluster.local \\\n",
    "                               --rest_port 8081 \\\n",
    "                               --model_name resnet \\\n",
    "                               --input_name 0 \\\n",
    "                               --output_name 1463 \\\n",
    "                               --images_numpy_path imgs.npy \\\n",
    "                               --labels_numpy_path lbs.npy \\\n",
    "                               --transpose_input False                "
   ]
  }
 ],
 "metadata": {
  "kernelspec": {
   "display_name": "Python 3",
   "language": "python",
   "name": "python3"
  },
  "language_info": {
   "codemirror_mode": {
    "name": "ipython",
    "version": 3
   },
   "file_extension": ".py",
   "mimetype": "text/x-python",
   "name": "python",
   "nbconvert_exporter": "python",
   "pygments_lexer": "ipython3",
   "version": "3.8.3"
  }
 },
 "nbformat": 4,
 "nbformat_minor": 5
}
